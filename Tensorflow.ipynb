{
  "nbformat": 4,
  "nbformat_minor": 0,
  "metadata": {
    "colab": {
      "provenance": [],
      "gpuType": "T4"
    },
    "kernelspec": {
      "name": "python3",
      "display_name": "Python 3"
    },
    "language_info": {
      "name": "python"
    },
    "accelerator": "GPU"
  },
  "cells": [
    {
      "cell_type": "code",
      "execution_count": null,
      "metadata": {
        "id": "h9hXyUXFYsel"
      },
      "outputs": [],
      "source": [
        "import tensorflow as tf\n",
        "from tensorflow.keras import layers, models\n",
        "import matplotlib.pyplot as plt\n",
        "import numpy as np"
      ]
    },
    {
      "cell_type": "code",
      "source": [
        "(train_images, train_labels), (test_images, test_labels) = tf.keras.datasets.mnist.load_data()\n",
        "train_images = train_images.astype('float32') / 255\n",
        "test_images = test_images.astype('float32') / 255"
      ],
      "metadata": {
        "id": "nG-wuunkYtiq"
      },
      "execution_count": null,
      "outputs": []
    },
    {
      "cell_type": "code",
      "source": [
        "# x_train = tf.convert_to_tensor(train_images)\n",
        "# y_train = tf.convert_to_tensor(train_labels)\n",
        "# x_test = tf.convert_to_tensor(test_images)\n",
        "# y_test = tf.convert_to_tensor(test_labels)"
      ],
      "metadata": {
        "id": "b_L1ZngAYCjA"
      },
      "execution_count": null,
      "outputs": []
    },
    {
      "cell_type": "code",
      "source": [
        "print('Number of images in the training dataset:', train_images.shape[0])\n",
        "print('Number of images in the testing dataset:', test_images.shape[0])"
      ],
      "metadata": {
        "colab": {
          "base_uri": "https://localhost:8080/"
        },
        "id": "NLdgGU9WYtlx",
        "outputId": "97262e16-1cdd-445f-f2d8-c0876c7ea44c"
      },
      "execution_count": null,
      "outputs": [
        {
          "output_type": "stream",
          "name": "stdout",
          "text": [
            "Number of images in the training dataset: 60000\n",
            "Number of images in the testing dataset: 10000\n"
          ]
        }
      ]
    },
    {
      "cell_type": "code",
      "source": [
        "print(f\"Shape of the images in the training dataset: {train_images[0].shape}\")"
      ],
      "metadata": {
        "colab": {
          "base_uri": "https://localhost:8080/"
        },
        "id": "n0PbAKd4Yto1",
        "outputId": "f23b86c8-424e-4ead-d49a-bfc02d93a48e"
      },
      "execution_count": null,
      "outputs": [
        {
          "output_type": "stream",
          "name": "stdout",
          "text": [
            "Shape of the images in the training dataset: (28, 28)\n"
          ]
        }
      ]
    },
    {
      "cell_type": "code",
      "source": [
        "fig, axes = plt.subplots(1, 10, figsize=(10, 10))\n",
        "for i in range(10):\n",
        "    axes[i].imshow(train_images[i].reshape(28, 28), cmap='gray')\n",
        "    axes[i].set_title(train_labels[i])\n",
        "    axes[i].axis('off')\n",
        "plt.show()"
      ],
      "metadata": {
        "colab": {
          "base_uri": "https://localhost:8080/",
          "height": 125
        },
        "id": "FrcmUrydYtri",
        "outputId": "61f30628-5ae4-41a7-8fd2-f1a201e5738f"
      },
      "execution_count": null,
      "outputs": [
        {
          "output_type": "display_data",
          "data": {
            "text/plain": [
              "<Figure size 1000x1000 with 10 Axes>"
            ],
            "image/png": "[encoded data removed]"
          },
          "metadata": {}
        }
      ]
    },
    {
      "cell_type": "code",
      "source": [
        "# physical_devices = tf.config.list_physical_devices('GPU')\n",
        "gpus = tf.config.list_physical_devices('GPU')\n",
        "print(gpus)"
      ],
      "metadata": {
        "colab": {
          "base_uri": "https://localhost:8080/"
        },
        "id": "9LBn4uxpV1_x",
        "outputId": "5e2fb4e2-6461-4acf-ec42-8dfaf9b3a7c0"
      },
      "execution_count": null,
      "outputs": [
        {
          "output_type": "stream",
          "name": "stdout",
          "text": [
            "[]\n"
          ]
        }
      ]
    },
    {
      "cell_type": "code",
      "source": [
        "def move_model_to_gpu(model):\n",
        "    \"\"\"\n",
        "    Moves a TensorFlow model to the GPU if available.\n",
        "\n",
        "    Parameters:\n",
        "        model (tf.keras.Model): The TensorFlow model to move to the GPU.\n",
        "\n",
        "    Returns:\n",
        "        tf.keras.Model: The model moved to the GPU, or the original model if GPU is not available.\n",
        "    \"\"\"\n",
        "    # Check if GPU is available\n",
        "    if tf.config.list_physical_devices('GPU'):\n",
        "        # If GPU is available, move the model to GPU\n",
        "        with tf.device('/GPU:0'):\n",
        "            gpu_model = model\n",
        "        print(\"Model moved to GPU.\")\n",
        "    else:\n",
        "        gpu_model = model\n",
        "        print(\"No GPU available. Model remains on CPU.\")\n",
        "\n",
        "    return gpu_model\n"
      ],
      "metadata": {
        "id": "GHT7LHmlVrnk"
      },
      "execution_count": null,
      "outputs": []
    },
    {
      "cell_type": "code",
      "source": [
        "# model = models.Sequential([\n",
        "#     layers.Flatten(input_shape=(28, 28, 1)),\n",
        "#     layers.Dense(128, activation='relu'),\n",
        "#     layers.Dense(64, activation='relu'),\n",
        "#     layers.Dense(64, activation='relu'),\n",
        "#     layers.Dense(64, activation='relu'),\n",
        "#     layers.Dense(10, activation='softmax')\n",
        "# ])\n",
        "\n",
        "model = tf.keras.Sequential([\n",
        "        # Convolutional Layer 1\n",
        "        tf.keras.layers.Conv2D(filters=6, kernel_size=(5, 5), strides=(1, 1), activation='relu', input_shape=(28, 28, 1), padding=\"valid\"),\n",
        "        tf.keras.layers.AvgPool2D(pool_size=(2, 2), strides=(2, 2), padding='valid'),\n",
        "\n",
        "        # Convolutional Layer 2\n",
        "        tf.keras.layers.Conv2D(filters=16, kernel_size=(5, 5), strides=(1, 1), activation='relu', padding='valid'),\n",
        "        tf.keras.layers.AvgPool2D(pool_size=(2, 2), strides=(2, 2), padding='valid'),\n",
        "\n",
        "        # Convolutional Layer 2\n",
        "        # tf.keras.layers.Conv2D(filters=32, kernel_size=(3, 3), strides=(2, 2), activation='relu', padding='valid'),\n",
        "        # tf.keras.layers.AvgPool2D(pool_size=(2, 2), strides=(2, 2), padding='valid'),\n",
        "\n",
        "        # Fully Connected Layers\n",
        "        tf.keras.layers.Flatten(),\n",
        "        tf.keras.layers.Dense(units=120, activation='relu'),\n",
        "        tf.keras.layers.Dense(units=84, activation='relu'),\n",
        "        tf.keras.layers.Dense(units=10, activation='softmax')\n",
        "])"
      ],
      "metadata": {
        "id": "4zhnlfDNYtuS"
      },
      "execution_count": null,
      "outputs": []
    },
    {
      "cell_type": "code",
      "source": [
        "model =  move_model_to_gpu(model)"
      ],
      "metadata": {
        "colab": {
          "base_uri": "https://localhost:8080/"
        },
        "id": "IZWXQuPTZCeG",
        "outputId": "ffbb3e8a-083e-4818-886d-b182cdffe991"
      },
      "execution_count": null,
      "outputs": [
        {
          "output_type": "stream",
          "name": "stdout",
          "text": [
            "No GPU available. Model remains on CPU.\n"
          ]
        }
      ]
    },
    {
      "cell_type": "code",
      "source": [
        "model.compile(optimizer='adam',\n",
        "              loss='sparse_categorical_crossentropy',\n",
        "              metrics=['accuracy'])\n",
        "\n",
        "history = model.fit(\n",
        "    train_images,\n",
        "    train_labels,\n",
        "    epochs=10\n",
        ")"
      ],
      "metadata": {
        "colab": {
          "base_uri": "https://localhost:8080/"
        },
        "id": "ymieeEt0YtxC",
        "outputId": "04bfc5c8-9626-4234-d15e-bca43a99f5fb"
      },
      "execution_count": null,
      "outputs": [
        {
          "output_type": "stream",
          "name": "stdout",
          "text": [
            "Epoch 1/10\n",
            "1875/1875 [==============================] - 27s 14ms/step - loss: 0.2178 - accuracy: 0.9343\n",
            "Epoch 2/10\n",
            "1875/1875 [==============================] - 26s 14ms/step - loss: 0.0732 - accuracy: 0.9772\n",
            "Epoch 3/10\n",
            "1875/1875 [==============================] - 26s 14ms/step - loss: 0.0522 - accuracy: 0.9840\n",
            "Epoch 4/10\n",
            "1875/1875 [==============================] - 25s 14ms/step - loss: 0.0411 - accuracy: 0.9869\n",
            "Epoch 5/10\n",
            "1875/1875 [==============================] - 25s 13ms/step - loss: 0.0348 - accuracy: 0.9889\n",
            "Epoch 6/10\n",
            "1875/1875 [==============================] - 25s 13ms/step - loss: 0.0269 - accuracy: 0.9915\n",
            "Epoch 7/10\n",
            "1875/1875 [==============================] - 25s 13ms/step - loss: 0.0237 - accuracy: 0.9924\n",
            "Epoch 8/10\n",
            "1875/1875 [==============================] - 25s 13ms/step - loss: 0.0207 - accuracy: 0.9933\n",
            "Epoch 9/10\n",
            "1875/1875 [==============================] - 25s 13ms/step - loss: 0.0178 - accuracy: 0.9942\n",
            "Epoch 10/10\n",
            "1875/1875 [==============================] - 25s 13ms/step - loss: 0.0157 - accuracy: 0.9951\n"
          ]
        }
      ]
    },
    {
      "cell_type": "code",
      "source": [
        "def view_classify(image, probabilities):\n",
        "    fig, (ax1, ax2) = plt.subplots(figsize=(6,9), ncols=2)\n",
        "    ax1.imshow(image)\n",
        "    ax1.axis('off')\n",
        "    ax2.barh(np.arange(10), probabilities)\n",
        "    ax2.set_aspect(0.1)\n",
        "    ax2.set_yticks(np.arange(10))\n",
        "    ax2.set_yticklabels(np.arange(10))\n",
        "    ax2.set_title('Class Probability')\n",
        "    ax2.set_xlim(0, 1.1)\n",
        "    plt.tight_layout()"
      ],
      "metadata": {
        "id": "QlS0A7ymYtzu"
      },
      "execution_count": null,
      "outputs": []
    },
    {
      "cell_type": "code",
      "source": [
        "image, label = test_images[56], test_labels[65]\n",
        "probabilities = model.predict(image.reshape(1, 28, 28, 1))\n",
        "view_classify(image,  probabilities[0])"
      ],
      "metadata": {
        "colab": {
          "base_uri": "https://localhost:8080/",
          "height": 362
        },
        "id": "9mKN91u9Yt2i",
        "outputId": "2e238a7c-068d-4532-ad79-18f7ccba8522"
      },
      "execution_count": null,
      "outputs": [
        {
          "output_type": "stream",
          "name": "stdout",
          "text": [
            "1/1 [==============================] - 0s 255ms/step\n"
          ]
        },
        {
          "output_type": "display_data",
          "data": {
            "text/plain": [
              "<Figure size 600x900 with 2 Axes>"
            ],
            "image/png": "[encoded data removed]"
          },
          "metadata": {}
        }
      ]
    },
    {
      "cell_type": "code",
      "source": [
        "test_loss, test_accuracy = model.evaluate(test_images, test_labels)\n",
        "print(f'Accuracy of the neural network on the {test_images.shape[0]} test images: {test_accuracy * 100:.2f}%')"
      ],
      "metadata": {
        "colab": {
          "base_uri": "https://localhost:8080/"
        },
        "id": "YY9QMPavYt5h",
        "outputId": "1a5ec355-b18a-45fb-b765-e5b0c1dfaf9d"
      },
      "execution_count": null,
      "outputs": [
        {
          "output_type": "stream",
          "name": "stdout",
          "text": [
            "313/313 [==============================] - 4s 12ms/step - loss: 0.0406 - accuracy: 0.9877\n",
            "Accuracy of the neural network on the 10000 test images: 98.77%\n"
          ]
        }
      ]
    },
    {
      "cell_type": "code",
      "source": [
        "model.save(\"lenet5_model.h5\")"
      ],
      "metadata": {
        "id": "psIjO3ghYt8x",
        "colab": {
          "base_uri": "https://localhost:8080/"
        },
        "outputId": "c872ba94-cc64-4e58-8928-e42db2f8665a"
      },
      "execution_count": null,
      "outputs": [
        {
          "output_type": "stream",
          "name": "stderr",
          "text": [
            "/usr/local/lib/python3.10/dist-packages/keras/src/engine/training.py:3103: UserWarning: You are saving your model as an HDF5 file via `model.save()`. This file format is considered legacy. We recommend using instead the native Keras format, e.g. `model.save('my_model.keras')`.\n",
            "  saving_api.save_model(\n"
          ]
        }
      ]
    },
    {
      "cell_type": "code",
      "source": [
        "import tkinter as tk\n",
        "from tkinter import Canvas\n",
        "from PIL import Image, ImageDraw\n",
        "import numpy as np"
      ],
      "metadata": {
        "id": "F-NVur_iYuAE"
      },
      "execution_count": null,
      "outputs": []
    },
    {
      "cell_type": "code",
      "source": [
        "model1 = tf.keras.models.load_model('lenet5_model.h5')"
      ],
      "metadata": {
        "id": "UfCtqpwT9x2X"
      },
      "execution_count": null,
      "outputs": []
    },
    {
      "cell_type": "code",
      "source": [],
      "metadata": {
        "id": "ld6RhTf39x4y"
      },
      "execution_count": null,
      "outputs": []
    },
    {
      "cell_type": "code",
      "source": [],
      "metadata": {
        "id": "F1LoEebN9x7U"
      },
      "execution_count": null,
      "outputs": []
    },
    {
      "cell_type": "code",
      "source": [],
      "metadata": {
        "id": "Qyf1HBIB9x98"
      },
      "execution_count": null,
      "outputs": []
    },
    {
      "cell_type": "code",
      "source": [],
      "metadata": {
        "id": "nbaL81dR9x_9"
      },
      "execution_count": null,
      "outputs": []
    },
    {
      "cell_type": "code",
      "source": [],
      "metadata": {
        "id": "h-sQ0yCf9yCZ"
      },
      "execution_count": null,
      "outputs": []
    },
    {
      "cell_type": "code",
      "source": [],
      "metadata": {
        "id": "YK9iT0gr9yE7"
      },
      "execution_count": null,
      "outputs": []
    },
    {
      "cell_type": "code",
      "source": [],
      "metadata": {
        "id": "CPnMHGrm9yHX"
      },
      "execution_count": null,
      "outputs": []
    },
    {
      "cell_type": "code",
      "source": [],
      "metadata": {
        "id": "SqNwOr8g9yJ-"
      },
      "execution_count": null,
      "outputs": []
    },
    {
      "cell_type": "code",
      "source": [],
      "metadata": {
        "id": "IV5On20U9yMs"
      },
      "execution_count": null,
      "outputs": []
    },
    {
      "cell_type": "code",
      "source": [],
      "metadata": {
        "id": "RJk2U6Kp9yP4"
      },
      "execution_count": null,
      "outputs": []
    }
  ]
}